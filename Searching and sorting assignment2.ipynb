{
 "cells": [
  {
   "cell_type": "markdown",
   "id": "5b7a8e5e",
   "metadata": {},
   "source": [
    "## 1.Implement Binary Search\n"
   ]
  },
  {
   "cell_type": "code",
   "execution_count": 1,
   "id": "1404dd86",
   "metadata": {},
   "outputs": [
    {
     "data": {
      "text/plain": [
       "'the search element index is 5 and the find value is 13'"
      ]
     },
     "execution_count": 1,
     "metadata": {},
     "output_type": "execute_result"
    }
   ],
   "source": [
    "def binarysearch(array,find):\n",
    "    start = 0\n",
    "    end = len(array)-1\n",
    "    while (start <= end):\n",
    "        mid = (start+end)//2\n",
    "        if array[mid] == find:\n",
    "            return f'the search element index is {mid} and the find value is {find}'\n",
    "        elif array[mid] < find:\n",
    "            start = mid + 1\n",
    "        else:\n",
    "            end = mid - 1\n",
    "    return f'search element -->{find} is not appear in the array'\n",
    "\n",
    "binarysearch([1,3,8,9,11,13,70,89,98],13)   "
   ]
  },
  {
   "cell_type": "markdown",
   "id": "b737531b",
   "metadata": {},
   "source": [
    "## 2.Implement Merge Sort\n"
   ]
  },
  {
   "cell_type": "code",
   "execution_count": 2,
   "id": "d8b048a0",
   "metadata": {},
   "outputs": [
    {
     "name": "stdout",
     "output_type": "stream",
     "text": [
      "[0, 1, 2, 3, 4, 5, 6, 7, 8]\n"
     ]
    }
   ],
   "source": [
    "def merge_sort(A):\n",
    "    n = len(A)\n",
    "    if n == 1:\n",
    "        return A\n",
    "    m = n//2\n",
    "    B = merge_sort(A[:m])\n",
    "    C = merge_sort(A[m:])\n",
    "    sorted_A = Merge(B,C)\n",
    "    return sorted_A\n",
    "\n",
    "def Merge(B,C):\n",
    "    D = []\n",
    "    while len(B) != 0 and len(C) != 0:\n",
    "        b = B[0]\n",
    "        c = C[0]\n",
    "        if b <= c:\n",
    "            D.append(b)\n",
    "            B.pop(0)\n",
    "        else:\n",
    "            D.append(c)\n",
    "            C.pop(0)\n",
    "    if len(B) != 0:\n",
    "        D.extend(B)\n",
    "    if len(C) != 0:\n",
    "        D.extend(C)\n",
    "    return D\n",
    "print(merge_sort([5,8,6,3,1,4,7,2,0]))"
   ]
  },
  {
   "cell_type": "markdown",
   "id": "c4acb8ca",
   "metadata": {},
   "source": [
    "## 3.Implement Quick Sort\n"
   ]
  },
  {
   "cell_type": "code",
   "execution_count": 16,
   "id": "73ba0df0",
   "metadata": {},
   "outputs": [],
   "source": [
    "def partition(l, r, nums):\n",
    "    pivot, ptr = nums[r], l\n",
    "    for i in range(l, r):\n",
    "        if nums[i] <= pivot:\n",
    "            nums[i], nums[ptr] = nums[ptr], nums[i]\n",
    "            ptr += 1\n",
    "    nums[ptr], nums[r] = nums[r], nums[ptr]\n",
    "    return ptr \n",
    " \n",
    "def quicksort(l, r, nums):\n",
    "    if len(nums) == 1:  \n",
    "        return nums\n",
    "    if l < r:\n",
    "        pi = partition(l, r, nums)\n",
    "        quicksort(l, pi-1, nums)  # Recursively sorting the left values\n",
    "        quicksort(pi+1, r, nums)  # Recursively sorting the right values\n",
    "    return nums\n"
   ]
  },
  {
   "cell_type": "code",
   "execution_count": 17,
   "id": "8c96f70c",
   "metadata": {},
   "outputs": [
    {
     "name": "stdout",
     "output_type": "stream",
     "text": [
      "[1, 2, 3, 4, 5]\n"
     ]
    }
   ],
   "source": [
    "a = [4, 5, 1, 2, 3]\n",
    "print(quicksort(0, len(a)-1, a))\n"
   ]
  },
  {
   "cell_type": "markdown",
   "id": "9588c514",
   "metadata": {},
   "source": [
    "## 4.Implement Insertion Sort\n"
   ]
  },
  {
   "cell_type": "code",
   "execution_count": 18,
   "id": "d7b8dc46",
   "metadata": {},
   "outputs": [
    {
     "name": "stdout",
     "output_type": "stream",
     "text": [
      "[0, 1, 2, 3, 4, 5, 6, 7, 8]\n"
     ]
    }
   ],
   "source": [
    "def insertionsort(array):\n",
    "    length = len(array)\n",
    "    for i in range(1,length):\n",
    "        j = i - 1\n",
    "        temp = array[i]\n",
    "        while (j >= 0 and array[j] > temp):\n",
    "            array[j + 1] = array[j]\n",
    "            j = j - 1\n",
    "            array[j + 1] = temp\n",
    "            \n",
    "array = [1,5,2,4,6,7,3,8,0]\n",
    "insertionsort(array)\n",
    "print(array)"
   ]
  },
  {
   "cell_type": "markdown",
   "id": "a65dc24a",
   "metadata": {},
   "source": [
    "## 5.Write a program to sort list of strings (similar to that of dictionary)\n"
   ]
  },
  {
   "cell_type": "code",
   "execution_count": 20,
   "id": "d13395b3",
   "metadata": {},
   "outputs": [
    {
     "data": {
      "text/plain": [
       "['career', 'digital', 'edyoda', 'for', 'good', 'guidance', 'is', 'university']"
      ]
     },
     "execution_count": 20,
     "metadata": {},
     "output_type": "execute_result"
    }
   ],
   "source": [
    "list1 = ['edyoda','digital','university','is','good','for','career','guidance']\n",
    "list1.sort()\n",
    "list1"
   ]
  },
  {
   "cell_type": "code",
   "execution_count": 21,
   "id": "5401af44",
   "metadata": {},
   "outputs": [
    {
     "name": "stdout",
     "output_type": "stream",
     "text": [
      "['career', 'digital', 'edyoda', 'for', 'good', 'guidance', 'is', 'university']\n"
     ]
    }
   ],
   "source": [
    "list2 = ['edyoda','digital','university','is','good','for','career','guidance']\n",
    "print(sorted(list2))"
   ]
  },
  {
   "cell_type": "code",
   "execution_count": 22,
   "id": "b0cd91a5",
   "metadata": {},
   "outputs": [
    {
     "name": "stdout",
     "output_type": "stream",
     "text": [
      "career\n",
      "digital\n",
      "edyoda\n",
      "for\n",
      "good\n",
      "guidance\n",
      "is\n",
      "university\n"
     ]
    }
   ],
   "source": [
    "list3 = ['edyoda','digital','university','is','good','for','career','guidance']\n",
    "for i in sorted(list3):\n",
    "    print(i)"
   ]
  },
  {
   "cell_type": "code",
   "execution_count": null,
   "id": "36c64cf9",
   "metadata": {},
   "outputs": [],
   "source": []
  }
 ],
 "metadata": {
  "kernelspec": {
   "display_name": "Python 3 (ipykernel)",
   "language": "python",
   "name": "python3"
  },
  "language_info": {
   "codemirror_mode": {
    "name": "ipython",
    "version": 3
   },
   "file_extension": ".py",
   "mimetype": "text/x-python",
   "name": "python",
   "nbconvert_exporter": "python",
   "pygments_lexer": "ipython3",
   "version": "3.10.0"
  }
 },
 "nbformat": 4,
 "nbformat_minor": 5
}
